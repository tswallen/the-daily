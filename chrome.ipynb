{
 "cells": [
  {
   "cell_type": "markdown",
   "metadata": {},
   "source": [
    "# Chrome Bookmarks"
   ]
  },
  {
   "cell_type": "code",
   "execution_count": null,
   "metadata": {},
   "outputs": [],
   "source": [
    "import logging\n",
    "logging.basicConfig(level = logging.INFO)\n",
    "\n",
    "from os import environ\n",
    "\n",
    "from pymongo import MongoClient, errors\n",
    "from pymongo.collection import Collection\n",
    "\n",
    "from pathlib import Path\n",
    "import json"
   ]
  },
  {
   "cell_type": "code",
   "execution_count": null,
   "metadata": {},
   "outputs": [],
   "source": [
    "mongo: Collection = MongoClient(environ[\"MONGO_URL\"])['daily']['chrome_raw']\n",
    "'id_1' not in mongo.index_information() and mongo.create_index([('id', 1)], unique = True)\n",
    "# TODO: Stop this line outputting the index name"
   ]
  },
  {
   "cell_type": "code",
   "execution_count": null,
   "metadata": {},
   "outputs": [],
   "source": [
    "# TODO: Handle massive amounts of bookmarks\n",
    "\n",
    "bookmarks_file = Path.cwd() / 'data' / 'Bookmarks'\n",
    "folder_path = environ.get('CHROME_BOOKMARKS_PATH').split('/')\n",
    "\n",
    "logging.info(f'Reading bookmarks from {bookmarks_file}...')\n",
    "\n",
    "with open(bookmarks_file, 'r', encoding='utf-8') as file:\n",
    "    bookmarks_data = json.load(file)\n",
    "\n",
    "def find_folder(bookmarks, folder_path):\n",
    "    if not folder_path:\n",
    "        return bookmarks\n",
    "    current_folder_name = folder_path.pop(0)\n",
    "    for item in bookmarks:\n",
    "        if item['type'] == 'folder' and item['name'] == current_folder_name:\n",
    "            return find_folder(item['children'], folder_path)\n",
    "    return []\n",
    "\n",
    "bookmarks_list = []\n",
    "for root_key in ['bookmark_bar', 'other', 'synced']:\n",
    "    root_bookmarks = bookmarks_data['roots'].get(root_key, {}).get('children', [])\n",
    "    bookmarks_list.extend(find_folder(root_bookmarks, folder_path.copy()))\n",
    "\n",
    "logging.info(f'Logging {len(bookmarks_list)} bookmark(s)...')\n",
    "\n",
    "try:\n",
    "    mongo.insert_many(bookmarks_list, ordered = False)\n",
    "except errors.BulkWriteError:\n",
    "    logging.warning(\"Duplicate bookmark(s) detected\")"
   ]
  },
  {
   "cell_type": "code",
   "execution_count": null,
   "metadata": {},
   "outputs": [],
   "source": [
    "import pandas as pd"
   ]
  },
  {
   "cell_type": "code",
   "execution_count": null,
   "metadata": {},
   "outputs": [],
   "source": [
    "data = list(mongo.find())\n",
    "\n",
    "df = pd.DataFrame(data)\n",
    "\n",
    "df.to_csv('bookmarks.csv', index = False)"
   ]
  }
 ],
 "metadata": {
  "kernelspec": {
   "display_name": "the-daily",
   "language": "python",
   "name": "python3"
  },
  "language_info": {
   "codemirror_mode": {
    "name": "ipython",
    "version": 3
   },
   "file_extension": ".py",
   "mimetype": "text/x-python",
   "name": "python",
   "nbconvert_exporter": "python",
   "pygments_lexer": "ipython3",
   "version": "3.12.2"
  }
 },
 "nbformat": 4,
 "nbformat_minor": 2
}
