{
 "cells": [
  {
   "cell_type": "markdown",
   "metadata": {},
   "source": [
    "# Google Tasks"
   ]
  },
  {
   "cell_type": "code",
   "execution_count": null,
   "metadata": {},
   "outputs": [],
   "source": [
    "import logging\n",
    "logging.basicConfig(level = logging.INFO)\n",
    "\n",
    "from os import environ\n",
    "\n",
    "from pymongo import MongoClient, errors\n",
    "from pymongo.collection import Collection\n",
    "\n",
    "import os.path\n",
    "\n",
    "from google.auth.transport.requests import Request\n",
    "from google.oauth2.credentials import Credentials\n",
    "from google_auth_oauthlib.flow import InstalledAppFlow\n",
    "from googleapiclient.discovery import build\n",
    "\n",
    "SCOPES = [\"https://www.googleapis.com/auth/tasks.readonly\"]"
   ]
  },
  {
   "cell_type": "code",
   "execution_count": null,
   "metadata": {},
   "outputs": [],
   "source": [
    "mongo: Collection = MongoClient(environ[\"MONGO_URL\"])['daily']['tasks_raw']\n",
    "'id_1' not in mongo.index_information() and mongo.create_index([('id', 1)], unique = True)\n",
    "# TODO: Stop this line outputting the index name"
   ]
  },
  {
   "cell_type": "code",
   "execution_count": null,
   "metadata": {},
   "outputs": [],
   "source": [
    "def set_credentials():\n",
    "    credentials = None\n",
    "    if os.path.exists(\"token.json\"):\n",
    "        credentials = Credentials.from_authorized_user_file(\"token.json\", SCOPES)\n",
    "    if not credentials or not credentials.valid:\n",
    "        if credentials and credentials.expired and credentials.refresh_token:\n",
    "            credentials.refresh(Request())\n",
    "        else:\n",
    "            flow = InstalledAppFlow.from_client_secrets_file(\n",
    "                \"credentials.json\", SCOPES\n",
    "            )\n",
    "            credentials = flow.run_local_server(port=0)\n",
    "        with open(\"token.json\", \"w\") as token:\n",
    "            token.write(credentials.to_json())\n",
    "    return credentials"
   ]
  },
  {
   "cell_type": "code",
   "execution_count": null,
   "metadata": {},
   "outputs": [],
   "source": [
    "credentials = set_credentials()\n",
    "service = build(\"tasks\", \"v1\", credentials = credentials)"
   ]
  },
  {
   "cell_type": "code",
   "execution_count": null,
   "metadata": {},
   "outputs": [],
   "source": [
    "tasklists = service.tasklists().list().execute().get(\"items\", [])\n",
    "logging.info(f'Logging {len(tasklists)} tasklist(s)...')\n",
    "\n",
    "for tasklist in tasklists:\n",
    "    request = service.tasks().list(tasklist = tasklist['id'])\n",
    "    while request:\n",
    "        tasks_doc = request.execute()\n",
    "        tasks_list = tasks_doc.get(\"items\", [])\n",
    "        logging.info(f'Logging {len(tasks_list)} tasks from page <page_number> of {tasklist[\"title\"]}...')\n",
    "        try:\n",
    "            mongo.insert_many(tasks_list)\n",
    "        except errors.BulkWriteError:\n",
    "            # TODO: This assumes an ID will never move up or down the tasklist, which is not always true\n",
    "            logging.warning(\"Duplicate task(s) detected, skipping...\")\n",
    "            break\n",
    "        request = service.tasks().list_next(request, tasks_doc)\n"
   ]
  },
  {
   "cell_type": "code",
   "execution_count": null,
   "metadata": {},
   "outputs": [],
   "source": [
    "%pip install pyexcel-ods\n",
    "import pandas as pd"
   ]
  },
  {
   "cell_type": "code",
   "execution_count": null,
   "metadata": {},
   "outputs": [],
   "source": [
    "data = list(mongo.find())\n",
    "\n",
    "df = pd.DataFrame(data)\n",
    "\n",
    "df.to_excel('tasks.ods', engine = 'odf', index = False)"
   ]
  },
  {
   "cell_type": "code",
   "execution_count": null,
   "metadata": {},
   "outputs": [],
   "source": [
    "df.to_csv('tasks.csv', index = False)"
   ]
  }
 ],
 "metadata": {
  "kernelspec": {
   "display_name": "the-daily",
   "language": "python",
   "name": "python3"
  },
  "language_info": {
   "codemirror_mode": {
    "name": "ipython",
    "version": 3
   },
   "file_extension": ".py",
   "mimetype": "text/x-python",
   "name": "python",
   "nbconvert_exporter": "python",
   "pygments_lexer": "ipython3",
   "version": "3.12.2"
  }
 },
 "nbformat": 4,
 "nbformat_minor": 2
}
