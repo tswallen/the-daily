{
 "cells": [
  {
   "cell_type": "markdown",
   "metadata": {},
   "source": [
    "# The Daily\n",
    "## Database Tools"
   ]
  },
  {
   "cell_type": "code",
   "execution_count": null,
   "metadata": {},
   "outputs": [],
   "source": [
    "import pandas as pd\n",
    "\n",
    "from pymongo import MongoClient\n",
    "from pymongo.collection import Collection\n",
    "\n",
    "from os import environ"
   ]
  },
  {
   "cell_type": "code",
   "execution_count": null,
   "metadata": {},
   "outputs": [],
   "source": [
    "mongo: Collection = MongoClient(environ[\"MONGO_URL\"])['daily']"
   ]
  },
  {
   "cell_type": "code",
   "execution_count": null,
   "metadata": {},
   "outputs": [],
   "source": [
    "collections = mongo.list_collection_names()\n",
    "print(f'Daily database collections count: {len(collections)}')"
   ]
  },
  {
   "cell_type": "code",
   "execution_count": null,
   "metadata": {},
   "outputs": [],
   "source": [
    "dfs = []\n",
    "\n",
    "for collection in collections:\n",
    "    database = mongo[collection]\n",
    "    print(f'Documents in {collection}: {database.count_documents({})}')\n",
    "    first_item = database.find_one()\n",
    "    df = pd.DataFrame([first_item])\n",
    "    dfs.append(df)\n",
    "\n",
    "for _df in dfs:\n",
    "    print(_df)"
   ]
  }
 ],
 "metadata": {
  "kernelspec": {
   "display_name": "the-daily",
   "language": "python",
   "name": "python3"
  },
  "language_info": {
   "codemirror_mode": {
    "name": "ipython",
    "version": 3
   },
   "file_extension": ".py",
   "mimetype": "text/x-python",
   "name": "python",
   "nbconvert_exporter": "python",
   "pygments_lexer": "ipython3",
   "version": "3.12.3"
  }
 },
 "nbformat": 4,
 "nbformat_minor": 2
}
