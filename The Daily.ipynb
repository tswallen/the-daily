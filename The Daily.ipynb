{
 "cells": [
  {
   "cell_type": "markdown",
   "metadata": {},
   "source": [
    "# The Daily"
   ]
  },
  {
   "cell_type": "code",
   "execution_count": null,
   "metadata": {},
   "outputs": [],
   "source": [
    "# Imports\n",
    "import pandas as pd\n",
    "import base64\n",
    "from IPython.display import display, HTML, Javascript\n",
    "from jinja2 import Environment, FileSystemLoader\n",
    "from datetime import datetime"
   ]
  },
  {
   "cell_type": "code",
   "execution_count": null,
   "metadata": {},
   "outputs": [],
   "source": [
    "# Daily Imports\n",
    "import daily\n",
    "# chrome = daily.Chrome()\n",
    "# pinterest = daily.Pinterest(['Travel'])\n",
    "# quotes = daily.Quotes('https://www.goodreads.com/author/quotes/2622245.Lao_Tzu', 'Lao Tzu')\n",
    "# reddit = daily.Reddit(['tifu'])\n",
    "tasks = daily.Tasks()"
   ]
  },
  {
   "cell_type": "markdown",
   "metadata": {},
   "source": [
    "## Chrome Bookmarks"
   ]
  },
  {
   "cell_type": "code",
   "execution_count": null,
   "metadata": {},
   "outputs": [],
   "source": [
    "# Log Chrome Bookmarks\n",
    "# chrome.log_bookmarks()"
   ]
  },
  {
   "cell_type": "code",
   "execution_count": null,
   "metadata": {},
   "outputs": [],
   "source": [
    "bookmarks = [bookmark.__dict__ for bookmark in chrome.get_bookmarks(with_screenshot = True)]\n",
    "\n",
    "df = pd.DataFrame(bookmarks)\n",
    "\n",
    "df['screenshot'] = df['screenshot'].apply(lambda img: f'<img src=\"data:image/png;base64,{base64.b64encode(img).decode()}\" width=\"100\">')\n",
    "\n",
    "display(HTML(df.to_html(escape=False)))\n"
   ]
  },
  {
   "cell_type": "markdown",
   "metadata": {},
   "source": [
    "## Pinterest Pins"
   ]
  },
  {
   "cell_type": "code",
   "execution_count": null,
   "metadata": {},
   "outputs": [],
   "source": [
    "# Log Pinterest Pins\n",
    "# pinterest.log_pins()"
   ]
  },
  {
   "cell_type": "code",
   "execution_count": null,
   "metadata": {},
   "outputs": [],
   "source": [
    "reccomendations = [reccomendation.__dict__ for reccomendation in pinterest.get_pins()]\n",
    "\n",
    "df = pd.DataFrame(reccomendations)\n",
    "\n",
    "df['image'] = df['image'].apply(lambda image: f'<img src=\"{image}\" width=\"100\">')\n",
    "\n",
    "#display(HTML(df[['Image']].to_html(escape=False)))\n",
    "display(HTML(df.to_html(escape=False)))"
   ]
  },
  {
   "cell_type": "markdown",
   "metadata": {},
   "source": [
    "## Quotes"
   ]
  },
  {
   "cell_type": "code",
   "execution_count": null,
   "metadata": {},
   "outputs": [],
   "source": [
    "# Log Quotes\n",
    "# quotes.log_quotes()"
   ]
  },
  {
   "cell_type": "code",
   "execution_count": null,
   "metadata": {},
   "outputs": [],
   "source": [
    "quote = quotes.get_quote()\n",
    "\n",
    "html_content = f\"\"\"\n",
    "<h1>{quote.body}</h1>\n",
    "<h2>{quote.author}</h2>\n",
    "\"\"\"\n",
    "\n",
    "HTML(html_content)"
   ]
  },
  {
   "cell_type": "markdown",
   "metadata": {},
   "source": [
    "## Reddit Posts"
   ]
  },
  {
   "cell_type": "code",
   "execution_count": null,
   "metadata": {},
   "outputs": [],
   "source": [
    "# Log Reddit Posts\n",
    "# reddit.log_posts()"
   ]
  },
  {
   "cell_type": "code",
   "execution_count": null,
   "metadata": {},
   "outputs": [],
   "source": [
    "posts = [post.__dict__ for post in reddit.get_posts()]\n",
    "\n",
    "df = pd.DataFrame(posts)\n",
    "\n",
    "display(HTML(df.to_html(escape=False)))"
   ]
  },
  {
   "cell_type": "markdown",
   "metadata": {},
   "source": [
    "## Google Tasks"
   ]
  },
  {
   "cell_type": "code",
   "execution_count": null,
   "metadata": {},
   "outputs": [],
   "source": [
    "# Log Google Tasks\n",
    "tasks.log_tasks()"
   ]
  },
  {
   "cell_type": "code",
   "execution_count": null,
   "metadata": {},
   "outputs": [],
   "source": [
    "_tasks = [task.__dict__ for task in tasks.get_tasks(300)]\n",
    "\n",
    "df = pd.DataFrame(_tasks)\n",
    "\n",
    "df.head()"
   ]
  },
  {
   "cell_type": "code",
   "execution_count": null,
   "metadata": {},
   "outputs": [],
   "source": [
    "df.to_csv('tasks.csv', index = False)"
   ]
  },
  {
   "cell_type": "code",
   "execution_count": null,
   "metadata": {},
   "outputs": [],
   "source": [
    "new_df = df[['title']].copy()\n",
    "new_df.to_csv('tasks2.csv', index = False)"
   ]
  },
  {
   "cell_type": "markdown",
   "metadata": {},
   "source": [
    "## HTML Page"
   ]
  },
  {
   "cell_type": "code",
   "execution_count": null,
   "metadata": {},
   "outputs": [],
   "source": [
    "name = \"Thomas Allen\""
   ]
  },
  {
   "cell_type": "code",
   "execution_count": null,
   "metadata": {},
   "outputs": [],
   "source": [
    "quote = quotes.get_quote()\n",
    "pins = [reccomendation.__dict__ for reccomendation in pinterest.get_pins()]\n",
    "bookmarks = [bookmark.__dict__ for bookmark in chrome.get_bookmarks(with_screenshot = True, amount = 5)]\n",
    "posts = [post.__dict__ for post in reddit.get_posts()]"
   ]
  },
  {
   "cell_type": "code",
   "execution_count": null,
   "metadata": {},
   "outputs": [],
   "source": [
    "for bookmark in bookmarks:\n",
    "    bookmark['screenshot'] = base64.b64encode(bookmark['screenshot']).decode()"
   ]
  },
  {
   "cell_type": "code",
   "execution_count": null,
   "metadata": {},
   "outputs": [],
   "source": [
    "test = \"Tom\"\n",
    "\n",
    "\n",
    "def my_function():\n",
    "    global test\n",
    "    if test == \"Tom\":\n",
    "        test = \"Kaye\"\n",
    "    elif test == \"Kaye\":\n",
    "        test = \"Tom\"\n",
    "        \n",
    "    #print(f\"Button clicked! {datetime.now()}\")\n",
    "\n",
    "\n",
    "# Create an environment and specify the folder that contains your templates\n",
    "env = Environment(loader=FileSystemLoader('templates'))\n",
    "env.globals['my_function'] = my_function\n",
    "\n",
    "# Load the template from the file system\n",
    "template = env.get_template('index.html')\n",
    "\n",
    "# Data to pass to the template\n",
    "data = {\n",
    "    'title': f\"The Daily - {datetime.now().strftime(\"%d/%m/%y\")}\",\n",
    "    'heading': 'The Daily',\n",
    "    'subheading': f'Generated for: {name} on: {datetime.now().strftime(\"%d/%m/%y\")}',\n",
    "    'quote': quote.__dict__,\n",
    "    'pinterest': pins,\n",
    "    'bookmarks': bookmarks,\n",
    "    'posts': posts,\n",
    "    'my_function': my_function\n",
    "}\n",
    "\n",
    "# Render the template with data\n",
    "html_output = template.render(data)\n",
    "\n",
    "# Print the rendered HTML\n",
    "display(HTML(html_output))"
   ]
  },
  {
   "cell_type": "code",
   "execution_count": null,
   "metadata": {},
   "outputs": [],
   "source": [
    "from jinja2 import Template\n",
    "\n",
    "# Create a template\n",
    "template = Template(\"\"\"\n",
    "<html>\n",
    "<head><title>Interactive Button</title></head>\n",
    "<body>\n",
    "    <h1>{{ message }}</h1>\n",
    "    <button onclick=\"pyButtonClicked()\">Click me!</button>\n",
    "    <script>\n",
    "        function pyButtonClicked() {\n",
    "            var kernel = IPython.notebook.kernel;\n",
    "            kernel.execute('button_clicked()');\n",
    "        }\n",
    "    </script>\n",
    "</body>\n",
    "</html>\n",
    "\"\"\")\n",
    "\n",
    "def button_clicked():\n",
    "    global html_widget\n",
    "    new_content = template.render(message=\"Button was clicked!\")\n",
    "    html_widget.value = new_content\n",
    "\n",
    "from ipywidgets import HTML\n",
    "\n",
    "# Initial rendering of the template\n",
    "initial_html = template.render(message=\"Click the button!\")\n",
    "\n",
    "# Create an HTML widget\n",
    "html_widget = HTML(value=initial_html)\n",
    "\n",
    "# Display the widget\n",
    "display(html_widget)\n"
   ]
  },
  {
   "cell_type": "code",
   "execution_count": null,
   "metadata": {},
   "outputs": [],
   "source": [
    "from jinja2 import Environment, BaseLoader\n",
    "\n",
    "# Define your template as a string\n",
    "template_string = \"\"\"\n",
    "<button onclick=\"element.dispatchEvent(new CustomEvent('button_click', {detail: {}}))\">\n",
    "    Click me!\n",
    "</button>\n",
    "<div id='message_div'>{{ message }}</div>\n",
    "\"\"\"\n",
    "\n",
    "# Create a template environment\n",
    "template = Environment(loader=BaseLoader()).from_string(template_string)\n",
    "\n",
    "import ipywidgets as widgets\n",
    "from IPython.display import display, Javascript\n",
    "\n",
    "# Function to handle button click\n",
    "def handle_button_click(change):\n",
    "    # Re-render the template with a new message\n",
    "    global test\n",
    "    if test == \"Tom\":\n",
    "        test = \"Kaye\"\n",
    "    elif test == \"Kaye\":\n",
    "        test = \"Tom\"\n",
    "        \n",
    "    print(\"YAY\")\n",
    "    new_html.value = template.render(message=\"Button was clicked!\")\n",
    "\n",
    "# Create an HTML widget with initial rendering of the template\n",
    "initial_html = template.render(message=\"Click the button!\")\n",
    "new_html = widgets.HTML(value=initial_html)\n",
    "\n",
    "# Setup an event listener for the custom 'button_click' event\n",
    "js = \"\"\"\n",
    "require(['@jupyter-widgets/base'], function(widgets) {{\n",
    "    var html_widget = widgets.get_widget_by_id('{model_id}');\n",
    "    var element = html_widget.el;\n",
    "    element.addEventListener('button_click', function(event) {{\n",
    "        html_widget.send({{event: 'button_clicked'}});\n",
    "    }});\n",
    "}});\n",
    "\"\"\".format(model_id=new_html.model_id)\n",
    "\n",
    "# Display the HTML widget and JavaScript\n",
    "display(new_html, Javascript(js))\n",
    "\n",
    "# Link custom event to the Python handler\n",
    "new_html.on_msg(handle_button_click)\n"
   ]
  },
  {
   "cell_type": "code",
   "execution_count": null,
   "metadata": {},
   "outputs": [],
   "source": [
    "import ipywidgets as widgets\n",
    "from IPython.display import display, Javascript\n",
    "from jinja2 import Environment, BaseLoader\n",
    "\n",
    "# Define your template as a string\n",
    "template_string = \"\"\"\n",
    "<button onclick=\"element.dispatchEvent(new CustomEvent('button_click', {{detail: {{}}}));\">\n",
    "    Click me!\n",
    "</button>\n",
    "<div id='message_div'>{{{{ message }}}}</div>\n",
    "\"\"\"\n",
    "\n",
    "# Create a template environment\n",
    "template = Environment(loader=BaseLoader()).from_string(template_string)\n",
    "\n",
    "# Function to handle button click\n",
    "def handle_button_click(change):\n",
    "    print('TAT')\n",
    "    # Re-render the template with a new message\n",
    "    new_html.value = template.render(message=\"Button was clicked!\")\n",
    "\n",
    "# Create an HTML widget with initial rendering of the template\n",
    "initial_html = template.render(message=\"Click the button!\")\n",
    "new_html = widgets.HTML(value=initial_html)\n",
    "\n",
    "# Setup an event listener for the custom 'button_click' event\n",
    "js = \"\"\"\n",
    "require(['@jupyter-widgets/base'], function(widgets) {{\n",
    "    var html_widget = widgets.get_widget_by_id('{model_id}');\n",
    "    var element = html_widget.el;\n",
    "    element.addEventListener('button_click', function(event) {{\n",
    "        html_widget.send({{event: 'button_clicked'}});\n",
    "    }});\n",
    "}});\n",
    "\"\"\".format(model_id=new_html.model_id)\n",
    "\n",
    "# Display the HTML widget and JavaScript\n",
    "display(new_html, Javascript(js))\n",
    "\n",
    "# Link custom event to the Python handler\n",
    "new_html.on_msg(handle_button_click)\n"
   ]
  },
  {
   "cell_type": "code",
   "execution_count": null,
   "metadata": {},
   "outputs": [],
   "source": [
    "import ipywidgets as widgets\n",
    "from IPython.display import display\n",
    "\n",
    "# Define a Python function to be executed\n",
    "def update_message():\n",
    "    # Update the message on the HTML widget\n",
    "    message.value = \"<h1>Button was clicked!</h1>\"\n",
    "\n",
    "# Create a button widget\n",
    "button = widgets.Button(description=\"Click Me!\")\n",
    "\n",
    "# Create an HTML widget to display messages\n",
    "message = widgets.HTML(value=\"<h1>Click the button!</h1>\")\n",
    "\n",
    "# Define an event handler for the button\n",
    "def on_button_clicked(b):\n",
    "    update_message()\n",
    "\n",
    "# Link the button to the event handler\n",
    "button.on_click(on_button_clicked)\n",
    "\n",
    "# Display the button and message widgets\n",
    "display(button, message)\n"
   ]
  },
  {
   "cell_type": "code",
   "execution_count": null,
   "metadata": {},
   "outputs": [],
   "source": [
    "import pymongo\n",
    "from IPython.display import display, clear_output\n",
    "import ipywidgets as widgets\n",
    "import pandas as pd\n",
    "\n",
    "# MongoDB connection setup\n",
    "client = pymongo.MongoClient(\"mongodb://localhost:27017/\")  # Adjust your MongoDB URI\n",
    "db = client[\"daily\"]\n",
    "collection = db[\"pinterest\"]\n",
    "\n",
    "def fetch_data():\n",
    "    # Fetching data from MongoDB\n",
    "    data = list(collection.find().limit(5))  # Adjust query as needed\n",
    "    print(data)\n",
    "    return pd.DataFrame(data)\n",
    "\n",
    "def delete_record(record_id):\n",
    "    # Function to delete a record\n",
    "    #collection.delete_one({\"_id\": record_id})\n",
    "    clear_output()\n",
    "    display_data()\n",
    "\n",
    "def display_data():\n",
    "    df = fetch_data()\n",
    "    \n",
    "    # Create a list to hold button widgets\n",
    "    button_list = []\n",
    "    \n",
    "    # Function to create a button for deleting\n",
    "    def create_delete_button(record_id):\n",
    "        button = widgets.Button(description=\"Delete\", button_style='danger')\n",
    "        button.on_click(lambda b: delete_record(record_id))\n",
    "        return button\n",
    "    \n",
    "    # Creating buttons and adding to the dataframe display\n",
    "    for index, row in df.iterrows():\n",
    "        button_list.append(create_delete_button(row['_id']))\n",
    "    \n",
    "    # Displaying the data\n",
    "    display(df[['title', 'image']])  # Adjust these fields based on your data schema\n",
    "    display(widgets.VBox(button_list))\n",
    "\n",
    "# Display data initially\n",
    "display_data()"
   ]
  },
  {
   "cell_type": "code",
   "execution_count": null,
   "metadata": {},
   "outputs": [],
   "source": [
    "import pymongo\n",
    "from IPython.display import display, clear_output\n",
    "import ipywidgets as widgets\n",
    "import pandas as pd\n",
    "import requests\n",
    "\n",
    "# MongoDB connection setup\n",
    "client = pymongo.MongoClient(\"mongodb://localhost:27017/\")  # Adjust your MongoDB URI\n",
    "db = client[\"daily\"]\n",
    "collection = db[\"pinterest\"]\n",
    "\n",
    "def fetch_data():\n",
    "    # Fetching data from MongoDB\n",
    "    data = list(collection.find().limit(5))  # Adjust query as needed\n",
    "    return pd.DataFrame(data)\n",
    "\n",
    "def delete_record(record_id, button):\n",
    "    # Function to delete a record\n",
    "    #collection.delete_one({\"_id\": record_id})\n",
    "    button.description = 'Deleted'\n",
    "    button.disabled = True\n",
    "\n",
    "def display_data():\n",
    "    df = fetch_data()\n",
    "    items_layout = widgets.Layout(width='auto')  # Set width to the size of the button\n",
    "    \n",
    "    # Define the data and button layout\n",
    "    rows = []\n",
    "    for index, row in df.iterrows():\n",
    "        title = widgets.Label(row['title'], layout=items_layout)\n",
    "        image = widgets.Image(value=requests.get(row['image']).content, format='png', width=100, height=100, layout=items_layout)\n",
    "        delete_button = widgets.Button(description=\"Delete\", button_style='danger', layout=items_layout)\n",
    "        delete_button.on_click(lambda b, _id=row['_id']: delete_record(_id, b))\n",
    "        rows.append(widgets.HBox([title, image, delete_button]))\n",
    "    \n",
    "    # Display all rows\n",
    "    display(widgets.VBox(rows))\n",
    "\n",
    "# Display data initially\n",
    "display_data()"
   ]
  },
  {
   "cell_type": "code",
   "execution_count": null,
   "metadata": {},
   "outputs": [],
   "source": [
    "from pyowm import OWM\n",
    "from pyowm.utils import config\n",
    "from pyowm.utils import timestamps\n",
    "\n",
    "# ---------- FREE API KEY examples ---------------------\n",
    "\n",
    "owm = OWM('1d75a5286688928da048dcc82c67e211')\n",
    "mgr = owm.weather_manager()\n",
    "\n",
    "\n",
    "# Search for current weather in London (Great Britain) and get details\n",
    "observation = mgr.weather_at_place('London,GB')\n",
    "w = observation.weather\n",
    "\n",
    "w.detailed_status         # 'clouds'\n",
    "w.wind()                  # {'speed': 4.6, 'deg': 330}\n",
    "w.humidity                # 87\n",
    "w.temperature('celsius')  # {'temp_max': 10.5, 'temp': 9.7, 'temp_min': 9.0}\n",
    "w.rain                    # {}\n",
    "w.heat_index              # None\n",
    "w.clouds                  # 75\n",
    "\n",
    "# Will it be clear tomorrow at this time in Milan (Italy) ?\n",
    "forecast = mgr.forecast_at_place('Milan,IT', 'daily')\n",
    "answer = forecast.will_be_clear_at(timestamps.tomorrow())\n",
    "\n",
    "# # ---------- PAID API KEY example ---------------------\n",
    "\n",
    "# config_dict = config.get_default_config_for_subscription_type('professional')\n",
    "# owm = OWM('your paid OWM API key', config_dict)\n",
    "\n",
    "# # What's the current humidity in Berlin (Germany) ?\n",
    "# one_call_object = mgr.one_call(lat=52.5244, lon=13.4105)\n",
    "# one_call_object.current.humidity"
   ]
  },
  {
   "cell_type": "code",
   "execution_count": null,
   "metadata": {},
   "outputs": [],
   "source": [
    "from IPython.display import display, HTML, Javascript\n",
    "\n",
    "def my_function():\n",
    "    print(\"Button clicked!\")\n",
    "\n",
    "# HTML to display a button\n",
    "button_html = '''\n",
    "<button onclick=\"run_python_function()\">Click Me!</button>\n",
    "<script type=\"text/Javascript\">\n",
    "    function run_python_function(){\n",
    "        var kernel = IPython.notebook.kernel;\n",
    "        kernel.execute(\"my_function()\");\n",
    "    }\n",
    "</script>\n",
    "'''\n",
    "\n",
    "display(HTML(button_html))"
   ]
  },
  {
   "cell_type": "code",
   "execution_count": null,
   "metadata": {},
   "outputs": [],
   "source": [
    "from IPython.display import display, HTML, Javascript\n",
    "from ipywidgets import Output\n",
    "\n",
    "out = Output()\n",
    "\n",
    "@out.capture()\n",
    "def my_function():\n",
    "    print(\"Button clicked!\")\n",
    "\n",
    "button_html = '''\n",
    "<button onclick=\"run_python_function()\">Click Me!</button>\n",
    "<script type=\"text/Javascript\">\n",
    "    function run_python_function(){\n",
    "        IPython.notebook.kernel.execute(\"my_function()\", {}, {});\n",
    "    }\n",
    "</script>\n",
    "'''\n",
    "\n",
    "display(HTML(button_html))\n",
    "display(out)"
   ]
  },
  {
   "cell_type": "code",
   "execution_count": null,
   "metadata": {},
   "outputs": [],
   "source": [
    "from pymongo import MongoClient\n",
    "from pymongo.collection import Collection\n",
    "from IPython.display import display, clear_output\n",
    "import ipywidgets as widgets\n",
    "\n",
    "from os import environ\n",
    "\n",
    "mongo: Collection = MongoClient(environ[\"MONGO_URL\"])['daily']['pinterest']\n",
    "\n",
    "pins = list(mongo.aggregate([{ '$sample': { 'size': 5 } }]))\n",
    "\n",
    "print(pins)\n",
    "\n",
    "def fetch_and_display_items():\n",
    "    clear_output(wait=True)  # Clear the output to refresh the items displayed\n",
    "    items = mongo.find().limit(5)  # Fetch 5 items from the collection\n",
    "\n",
    "    for item in items:\n",
    "        item_id = item['_id']  # Get the MongoDB ID of the item\n",
    "        print(item)  # Display the item's data\n",
    "        delete_button = widgets.Button(description=\"Delete\")\n",
    "        \n",
    "        def delete_item(b, item_id=item_id):\n",
    "            mongo.delete_one({'_id': item_id})\n",
    "            fetch_and_display_items()  # Refresh the display after deleting the item\n",
    "        \n",
    "        delete_button.on_click(delete_item)\n",
    "        display(delete_button)  # Display the delete button\n",
    "\n",
    "fetch_and_display_items()  # Call the function to display items initially"
   ]
  }
 ],
 "metadata": {
  "kernelspec": {
   "display_name": "the-daily",
   "language": "python",
   "name": "python3"
  },
  "language_info": {
   "codemirror_mode": {
    "name": "ipython",
    "version": 3
   },
   "file_extension": ".py",
   "mimetype": "text/x-python",
   "name": "python",
   "nbconvert_exporter": "python",
   "pygments_lexer": "ipython3",
   "version": "3.12.3"
  }
 },
 "nbformat": 4,
 "nbformat_minor": 2
}
