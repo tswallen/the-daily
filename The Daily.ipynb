{
 "cells": [
  {
   "cell_type": "markdown",
   "metadata": {},
   "source": [
    "# The Daily"
   ]
  },
  {
   "cell_type": "code",
   "execution_count": null,
   "metadata": {},
   "outputs": [],
   "source": [
    "# Chrome Imports\n",
    "import pandas as pd\n",
    "import base64\n",
    "from IPython.display import display, HTML"
   ]
  },
  {
   "cell_type": "code",
   "execution_count": null,
   "metadata": {},
   "outputs": [],
   "source": [
    "# Daily Imports\n",
    "import daily\n",
    "chrome = daily.chrome.Chrome()\n",
    "pinterest = daily.pinterest.Pinterest(['Travel'])\n",
    "quotes = daily.quotes.Quotes('https://www.goodreads.com/author/quotes/2622245.Lao_Tzu', 'Lao Tzu')"
   ]
  },
  {
   "cell_type": "markdown",
   "metadata": {},
   "source": [
    "## Chrome Bookmarks"
   ]
  },
  {
   "cell_type": "code",
   "execution_count": null,
   "metadata": {},
   "outputs": [],
   "source": [
    "# Log Chrome Bookmarks\n",
    "chrome.log_bookmarks(5)"
   ]
  },
  {
   "cell_type": "code",
   "execution_count": null,
   "metadata": {},
   "outputs": [],
   "source": [
    "bookmarks = [bookmark.__dict__ for bookmark in chrome.get_bookmarks(2)]\n",
    "\n",
    "df = pd.DataFrame(bookmarks)\n",
    "\n",
    "df['screenshot'] = df['screenshot'].apply(lambda img: f'<img src=\"data:image/png;base64,{base64.b64encode(img).decode()}\" width=\"100\">')\n",
    "\n",
    "display(HTML(df.to_html(escape=False)))\n"
   ]
  },
  {
   "cell_type": "markdown",
   "metadata": {},
   "source": [
    "## Pinterest Pins"
   ]
  },
  {
   "cell_type": "code",
   "execution_count": null,
   "metadata": {},
   "outputs": [],
   "source": [
    "# Log Pinterest Posts\n",
    "pinterest.log_posts()"
   ]
  },
  {
   "cell_type": "code",
   "execution_count": null,
   "metadata": {},
   "outputs": [],
   "source": [
    "reccomendations = [reccomendation.__dict__ for reccomendation in pinterest.get_posts()]\n",
    "\n",
    "df = pd.DataFrame(reccomendations)\n",
    "\n",
    "df['image'] = df['image'].apply(lambda image: f'<img src=\"{image}\" width=\"100\">')\n",
    "\n",
    "#display(HTML(df[['Image']].to_html(escape=False)))\n",
    "display(HTML(df.to_html(escape=False)))"
   ]
  },
  {
   "cell_type": "markdown",
   "metadata": {},
   "source": [
    "## Quotes"
   ]
  },
  {
   "cell_type": "code",
   "execution_count": null,
   "metadata": {},
   "outputs": [],
   "source": [
    "# Log Quotes\n",
    "quotes.log_quotes()"
   ]
  },
  {
   "cell_type": "code",
   "execution_count": null,
   "metadata": {},
   "outputs": [],
   "source": [
    "quote = quotes.get_quote()\n",
    "\n",
    "html_content = f\"\"\"\n",
    "<h1>{quote.body}</h1>\n",
    "<h2>{quote.author}</h2>\n",
    "\"\"\"\n",
    "\n",
    "HTML(html_content)"
   ]
  }
 ],
 "metadata": {
  "kernelspec": {
   "display_name": "the-daily",
   "language": "python",
   "name": "python3"
  },
  "language_info": {
   "codemirror_mode": {
    "name": "ipython",
    "version": 3
   },
   "file_extension": ".py",
   "mimetype": "text/x-python",
   "name": "python",
   "nbconvert_exporter": "python",
   "pygments_lexer": "ipython3",
   "version": "3.12.2"
  }
 },
 "nbformat": 4,
 "nbformat_minor": 2
}
