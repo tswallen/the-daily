{
 "cells": [
  {
   "cell_type": "markdown",
   "metadata": {},
   "source": [
    "# The Daily"
   ]
  },
  {
   "cell_type": "code",
   "execution_count": null,
   "metadata": {},
   "outputs": [],
   "source": [
    "# Imports\n",
    "import pandas as pd\n",
    "import base64\n",
    "from IPython.display import display, HTML, Javascript\n",
    "from jinja2 import Environment, FileSystemLoader\n",
    "from datetime import datetime"
   ]
  },
  {
   "cell_type": "code",
   "execution_count": null,
   "metadata": {},
   "outputs": [],
   "source": [
    "# Daily Imports\n",
    "import daily\n",
    "# chrome = daily.Chrome()\n",
    "# pinterest = daily.Pinterest(['Travel'])\n",
    "# quotes = daily.Quotes('https://www.goodreads.com/author/quotes/2622245.Lao_Tzu', 'Lao Tzu')\n",
    "# reddit = daily.Reddit(['tifu'])\n",
    "tasks = daily.Tasks()"
   ]
  },
  {
   "cell_type": "markdown",
   "metadata": {},
   "source": [
    "## Chrome Bookmarks"
   ]
  },
  {
   "cell_type": "code",
   "execution_count": null,
   "metadata": {},
   "outputs": [],
   "source": [
    "# Log Chrome Bookmarks\n",
    "# chrome.log_bookmarks()"
   ]
  },
  {
   "cell_type": "code",
   "execution_count": null,
   "metadata": {},
   "outputs": [],
   "source": [
    "bookmarks = [bookmark.__dict__ for bookmark in chrome.get_bookmarks(with_screenshot = True)]\n",
    "\n",
    "df = pd.DataFrame(bookmarks)\n",
    "\n",
    "df['screenshot'] = df['screenshot'].apply(lambda img: f'<img src=\"data:image/png;base64,{base64.b64encode(img).decode()}\" width=\"100\">')\n",
    "\n",
    "display(HTML(df.to_html(escape=False)))\n"
   ]
  },
  {
   "cell_type": "markdown",
   "metadata": {},
   "source": [
    "## Pinterest Pins"
   ]
  },
  {
   "cell_type": "code",
   "execution_count": null,
   "metadata": {},
   "outputs": [],
   "source": [
    "# Log Pinterest Pins\n",
    "# pinterest.log_pins()"
   ]
  },
  {
   "cell_type": "code",
   "execution_count": null,
   "metadata": {},
   "outputs": [],
   "source": [
    "reccomendations = [reccomendation.__dict__ for reccomendation in pinterest.get_pins()]\n",
    "\n",
    "df = pd.DataFrame(reccomendations)\n",
    "\n",
    "df['image'] = df['image'].apply(lambda image: f'<img src=\"{image}\" width=\"100\">')\n",
    "\n",
    "#display(HTML(df[['Image']].to_html(escape=False)))\n",
    "display(HTML(df.to_html(escape=False)))"
   ]
  },
  {
   "cell_type": "markdown",
   "metadata": {},
   "source": [
    "## Quotes"
   ]
  },
  {
   "cell_type": "code",
   "execution_count": null,
   "metadata": {},
   "outputs": [],
   "source": [
    "# Log Quotes\n",
    "# quotes.log_quotes()"
   ]
  },
  {
   "cell_type": "code",
   "execution_count": null,
   "metadata": {},
   "outputs": [],
   "source": [
    "quote = quotes.get_quote()\n",
    "\n",
    "html_content = f\"\"\"\n",
    "<h1>{quote.body}</h1>\n",
    "<h2>{quote.author}</h2>\n",
    "\"\"\"\n",
    "\n",
    "HTML(html_content)"
   ]
  },
  {
   "cell_type": "markdown",
   "metadata": {},
   "source": [
    "## Reddit Posts"
   ]
  },
  {
   "cell_type": "code",
   "execution_count": null,
   "metadata": {},
   "outputs": [],
   "source": [
    "# Log Reddit Posts\n",
    "# reddit.log_posts()"
   ]
  },
  {
   "cell_type": "code",
   "execution_count": null,
   "metadata": {},
   "outputs": [],
   "source": [
    "posts = [post.__dict__ for post in reddit.get_posts()]\n",
    "\n",
    "df = pd.DataFrame(posts)\n",
    "\n",
    "display(HTML(df.to_html(escape=False)))"
   ]
  },
  {
   "cell_type": "markdown",
   "metadata": {},
   "source": [
    "## Google Tasks"
   ]
  },
  {
   "cell_type": "code",
   "execution_count": null,
   "metadata": {},
   "outputs": [],
   "source": [
    "# Log Google Tasks\n",
    "tasks.log_tasks()"
   ]
  },
  {
   "cell_type": "code",
   "execution_count": null,
   "metadata": {},
   "outputs": [],
   "source": [
    "_tasks = [task.__dict__ for task in tasks.get_tasks(100)]\n",
    "\n",
    "df = pd.DataFrame(_tasks)\n",
    "\n",
    "display(HTML(df.to_html(escape=False)))"
   ]
  },
  {
   "cell_type": "code",
   "execution_count": null,
   "metadata": {},
   "outputs": [],
   "source": [
    "df.to_csv('tasks.csv', index=False)"
   ]
  },
  {
   "cell_type": "markdown",
   "metadata": {},
   "source": [
    "## HTML Page"
   ]
  },
  {
   "cell_type": "code",
   "execution_count": null,
   "metadata": {},
   "outputs": [],
   "source": [
    "name = \"Thomas Allen\""
   ]
  },
  {
   "cell_type": "code",
   "execution_count": null,
   "metadata": {},
   "outputs": [],
   "source": [
    "quote = quotes.get_quote()\n",
    "pins = [reccomendation.__dict__ for reccomendation in pinterest.get_pins()]\n",
    "bookmarks = [bookmark.__dict__ for bookmark in chrome.get_bookmarks(with_screenshot = True, amount = 5)]\n",
    "posts = [post.__dict__ for post in reddit.get_posts()]"
   ]
  },
  {
   "cell_type": "code",
   "execution_count": null,
   "metadata": {},
   "outputs": [],
   "source": [
    "for bookmark in bookmarks:\n",
    "    bookmark['screenshot'] = base64.b64encode(bookmark['screenshot']).decode()"
   ]
  },
  {
   "cell_type": "code",
   "execution_count": null,
   "metadata": {},
   "outputs": [],
   "source": [
    "test = \"Tom\"\n",
    "\n",
    "\n",
    "def my_function():\n",
    "    global test\n",
    "    if test == \"Tom\":\n",
    "        test = \"Kaye\"\n",
    "    elif test == \"Kaye\":\n",
    "        test = \"Tom\"\n",
    "        \n",
    "    #print(f\"Button clicked! {datetime.now()}\")\n",
    "\n",
    "\n",
    "# Create an environment and specify the folder that contains your templates\n",
    "env = Environment(loader=FileSystemLoader('templates'))\n",
    "env.globals['my_function'] = my_function\n",
    "\n",
    "# Load the template from the file system\n",
    "template = env.get_template('index.html')\n",
    "\n",
    "# Data to pass to the template\n",
    "data = {\n",
    "    'title': f\"The Daily - {datetime.now().strftime(\"%d/%m/%y\")}\",\n",
    "    'heading': 'The Daily',\n",
    "    'subheading': f'Generated for: {name} on: {datetime.now().strftime(\"%d/%m/%y\")}',\n",
    "    'quote': quote.__dict__,\n",
    "    'pinterest': pins,\n",
    "    'bookmarks': bookmarks,\n",
    "    'posts': posts,\n",
    "    'my_function': my_function\n",
    "}\n",
    "\n",
    "# Render the template with data\n",
    "html_output = template.render(data)\n",
    "\n",
    "# Print the rendered HTML\n",
    "display(HTML(html_output))"
   ]
  },
  {
   "cell_type": "code",
   "execution_count": null,
   "metadata": {},
   "outputs": [],
   "source": [
    "from jinja2 import Template\n",
    "\n",
    "# Create a template\n",
    "template = Template(\"\"\"\n",
    "<html>\n",
    "<head><title>Interactive Button</title></head>\n",
    "<body>\n",
    "    <h1>{{ message }}</h1>\n",
    "    <button onclick=\"pyButtonClicked()\">Click me!</button>\n",
    "    <script>\n",
    "        function pyButtonClicked() {\n",
    "            var kernel = IPython.notebook.kernel;\n",
    "            kernel.execute('button_clicked()');\n",
    "        }\n",
    "    </script>\n",
    "</body>\n",
    "</html>\n",
    "\"\"\")\n",
    "\n",
    "def button_clicked():\n",
    "    global html_widget\n",
    "    new_content = template.render(message=\"Button was clicked!\")\n",
    "    html_widget.value = new_content\n",
    "\n",
    "from ipywidgets import HTML\n",
    "\n",
    "# Initial rendering of the template\n",
    "initial_html = template.render(message=\"Click the button!\")\n",
    "\n",
    "# Create an HTML widget\n",
    "html_widget = HTML(value=initial_html)\n",
    "\n",
    "# Display the widget\n",
    "display(html_widget)\n"
   ]
  }
 ],
 "metadata": {
  "kernelspec": {
   "display_name": "the-daily",
   "language": "python",
   "name": "python3"
  },
  "language_info": {
   "codemirror_mode": {
    "name": "ipython",
    "version": 3
   },
   "file_extension": ".py",
   "mimetype": "text/x-python",
   "name": "python",
   "nbconvert_exporter": "python",
   "pygments_lexer": "ipython3",
   "version": "3.12.2"
  }
 },
 "nbformat": 4,
 "nbformat_minor": 2
}
